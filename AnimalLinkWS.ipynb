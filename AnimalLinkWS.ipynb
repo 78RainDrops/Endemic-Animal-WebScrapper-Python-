{
 "cells": [
  {
   "cell_type": "markdown",
   "metadata": {},
   "source": [
    "Animal data link getter"
   ]
  },
  {
   "cell_type": "code",
   "execution_count": 5,
   "metadata": {},
   "outputs": [],
   "source": [
    "from selenium import webdriver\n",
    "from selenium.webdriver.chrome.service import Service\n",
    "import time \n",
    "from selenium.webdriver.common.by import By\n",
    "from selenium.webdriver.common.keys import Keys\n",
    "from selenium.webdriver.support.ui import WebDriverWait\n",
    "from selenium.webdriver.support import expected_conditions as EC\n",
    "# import requests\n",
    "import pandas as pd\n"
   ]
  },
  {
   "cell_type": "code",
   "execution_count": 7,
   "metadata": {},
   "outputs": [
    {
     "name": "stdout",
     "output_type": "stream",
     "text": [
      "1 - 42 out of 478 LOAD MORE\n",
      "1 - 84 out of 478 LOAD MORE\n",
      "1 - 126 out of 478 LOAD MORE\n",
      "1 - 168 out of 478 LOAD MORE\n",
      "1 - 210 out of 478 LOAD MORE\n",
      "1 - 252 out of 478 LOAD MORE\n",
      "1 - 294 out of 478 LOAD MORE\n",
      "1 - 336 out of 478 LOAD MORE\n",
      "1 - 378 out of 478 LOAD MORE\n",
      "1 - 420 out of 478 LOAD MORE\n",
      "1 - 462 out of 478 LOAD MORE\n",
      "No more 'Load More' button to click.\n"
     ]
    }
   ],
   "source": [
    "list_of_link = []\n",
    "\n",
    "# Path to your chromedriver executable\n",
    "service = Service(executable_path=\"chromedriver.exe\")\n",
    "driver = webdriver.Chrome(service=service)\n",
    "\n",
    "# Open the webpage\n",
    "driver.get(\"https://animalia.bio/endemic-lists/country/endemic-animals-of-philippines\")\n",
    "\n",
    "# Wait for the link elements to be present\n",
    "link_elements = WebDriverWait(driver, 10).until(\n",
    "    EC.presence_of_all_elements_located((By.XPATH, \"//div[@class='rgt-block']//a\"))\n",
    ")\n",
    "\n",
    "# more_btn = WebDriverWait(driver, 10).until(\n",
    "#             EC.element_to_be_clickable((By.XPATH, \"//span[@class='endemic-list-load-more ']\"))\n",
    "#         )\n",
    "# print(more_btn.text)\n",
    "# Click the \"Load More\" button until it no longer exists\n",
    "while True:\n",
    "    try:\n",
    "        more_btn = WebDriverWait(driver, 10).until(\n",
    "            EC.element_to_be_clickable((By.XPATH, \"//span[@class='endemic-list-load-more ']\"))\n",
    "        )\n",
    "        print(more_btn.text)\n",
    "        more_btn.click()\n",
    "        time.sleep(2)  # Wait for the new content to load\n",
    "    except Exception as e:\n",
    "        print(\"No more 'Load More' button to click.\")\n",
    "        break\n",
    "link_elements = driver.find_elements(By.XPATH, \"//div[@class='rgt-block']//a\")\n",
    "for element in link_elements:\n",
    "    link = element.get_attribute('href')\n",
    "    # print(f\"Scraping data from: {link}\")\n",
    "    list_of_link.append(link)\n",
    "data = {\n",
    "    \"Links to Scrape\": list_of_link\n",
    "}\n",
    "df = pd.DataFrame(data)\n",
    "\n",
    "df.to_csv(\"AnimalLinkList.csv\", index=False)\n",
    "\n",
    "# Close the WebDriver\n",
    "driver.quit()   "
   ]
  },
  {
   "cell_type": "code",
   "execution_count": null,
   "metadata": {},
   "outputs": [],
   "source": []
  }
 ],
 "metadata": {
  "kernelspec": {
   "display_name": ".env",
   "language": "python",
   "name": "python3"
  },
  "language_info": {
   "codemirror_mode": {
    "name": "ipython",
    "version": 3
   },
   "file_extension": ".py",
   "mimetype": "text/x-python",
   "name": "python",
   "nbconvert_exporter": "python",
   "pygments_lexer": "ipython3",
   "version": "3.12.2"
  }
 },
 "nbformat": 4,
 "nbformat_minor": 2
}
